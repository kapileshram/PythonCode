{
  "nbformat": 4,
  "nbformat_minor": 0,
  "metadata": {
    "colab": {
      "name": "Python Language Basics",
      "version": "0.3.2",
      "provenance": [],
      "collapsed_sections": [
        "5IlXRHAj4s-E",
        "SB6PyGdZ5Syc",
        "8_BHmGo45eUC",
        "Tn0Dpk2e6H23",
        "ezaZ5cZl6Y34",
        "OoSnNOv26dly",
        "MTsTvmyc6sGE",
        "rPqx0A-C7LJk",
        "c6AxCHy27YPA",
        "NnzpPWfM7lRF",
        "JfOHwO7q70iR",
        "kmW6C-E49IN_",
        "yNwkW9tTADT2",
        "w8llrVvUBBig",
        "6-tB6Fd-BVq4",
        "ATnOzSi4CBrL",
        "WkoFTDVECghK",
        "Gnhjh8bcGpi0"
      ],
      "toc_visible": true,
      "include_colab_link": true
    },
    "kernelspec": {
      "name": "python3",
      "display_name": "Python 3"
    },
    "accelerator": "GPU"
  },
  "cells": [
    {
      "cell_type": "markdown",
      "metadata": {
        "id": "view-in-github",
        "colab_type": "text"
      },
      "source": [
        "[View in Colaboratory](https://colab.research.google.com/github/kapileshram/PythonCode/blob/master/Python_Language_Basics.ipynb)"
      ]
    },
    {
      "metadata": {
        "id": "DNsRWCdt2dMV",
        "colab_type": "text"
      },
      "cell_type": "markdown",
      "source": [
        "# Basic Python"
      ]
    },
    {
      "metadata": {
        "id": "fiFqxbnE2gt-",
        "colab_type": "text"
      },
      "cell_type": "markdown",
      "source": [
        "## Data types"
      ]
    },
    {
      "metadata": {
        "id": "G5CWM4lu2kMM",
        "colab_type": "text"
      },
      "cell_type": "markdown",
      "source": [
        "### Numbers"
      ]
    },
    {
      "metadata": {
        "id": "BW8YlhvZ2U7N",
        "colab_type": "code",
        "colab": {
          "base_uri": "https://localhost:8080/",
          "height": 34
        },
        "outputId": "cfe5209e-7b0f-483e-cb4f-b3bc8dec0171"
      },
      "cell_type": "code",
      "source": [
        "1 + 2"
      ],
      "execution_count": 0,
      "outputs": [
        {
          "output_type": "execute_result",
          "data": {
            "text/plain": [
              "3"
            ]
          },
          "metadata": {
            "tags": []
          },
          "execution_count": 109
        }
      ]
    },
    {
      "metadata": {
        "id": "iB95qFOH2o-1",
        "colab_type": "code",
        "colab": {
          "base_uri": "https://localhost:8080/",
          "height": 34
        },
        "outputId": "7f65b6b3-b1ec-4305-ace7-ca2aa6ce67c0"
      },
      "cell_type": "code",
      "source": [
        "4 * 3"
      ],
      "execution_count": 0,
      "outputs": [
        {
          "output_type": "execute_result",
          "data": {
            "text/plain": [
              "12"
            ]
          },
          "metadata": {
            "tags": []
          },
          "execution_count": 110
        }
      ]
    },
    {
      "metadata": {
        "id": "s1mJJtj72z4U",
        "colab_type": "text"
      },
      "cell_type": "markdown",
      "source": [
        "### Variable Assignment"
      ]
    },
    {
      "metadata": {
        "id": "iEU_l0E92wWJ",
        "colab_type": "code",
        "colab": {}
      },
      "cell_type": "code",
      "source": [
        "var_name = 5"
      ],
      "execution_count": 0,
      "outputs": []
    },
    {
      "metadata": {
        "id": "6xlu5bOX27yt",
        "colab_type": "code",
        "colab": {}
      },
      "cell_type": "code",
      "source": [
        "x = 1\n",
        "y = 5"
      ],
      "execution_count": 0,
      "outputs": []
    },
    {
      "metadata": {
        "id": "QxzT5jid3AFc",
        "colab_type": "code",
        "colab": {}
      },
      "cell_type": "code",
      "source": [
        "z = x + y"
      ],
      "execution_count": 0,
      "outputs": []
    },
    {
      "metadata": {
        "id": "bLiH-lb73B4M",
        "colab_type": "code",
        "colab": {
          "base_uri": "https://localhost:8080/",
          "height": 34
        },
        "outputId": "66e6b878-ea14-4fc0-d251-87cb619e2733"
      },
      "cell_type": "code",
      "source": [
        "z"
      ],
      "execution_count": 0,
      "outputs": [
        {
          "output_type": "execute_result",
          "data": {
            "text/plain": [
              "6"
            ]
          },
          "metadata": {
            "tags": []
          },
          "execution_count": 114
        }
      ]
    },
    {
      "metadata": {
        "id": "ZXs13I2N3LvB",
        "colab_type": "text"
      },
      "cell_type": "markdown",
      "source": [
        "### Strings"
      ]
    },
    {
      "metadata": {
        "id": "zAb43olZ3C88",
        "colab_type": "code",
        "colab": {
          "base_uri": "https://localhost:8080/",
          "height": 34
        },
        "outputId": "9cd2f3d7-87bf-4e0e-fd4f-b64c1c0ec468"
      },
      "cell_type": "code",
      "source": [
        "'Hey There' # single quotes"
      ],
      "execution_count": 0,
      "outputs": [
        {
          "output_type": "execute_result",
          "data": {
            "text/plain": [
              "'Hey There'"
            ]
          },
          "metadata": {
            "tags": []
          },
          "execution_count": 115
        }
      ]
    },
    {
      "metadata": {
        "id": "WJe_0O1o3FqP",
        "colab_type": "code",
        "colab": {
          "base_uri": "https://localhost:8080/",
          "height": 34
        },
        "outputId": "70110232-be1f-4000-b108-be319f3b1385"
      },
      "cell_type": "code",
      "source": [
        "\"I'm using Python!\" # double quotes"
      ],
      "execution_count": 0,
      "outputs": [
        {
          "output_type": "execute_result",
          "data": {
            "text/plain": [
              "\"I'm using Python!\""
            ]
          },
          "metadata": {
            "tags": []
          },
          "execution_count": 116
        }
      ]
    },
    {
      "metadata": {
        "id": "FUXAHChy3e25",
        "colab_type": "text"
      },
      "cell_type": "markdown",
      "source": [
        "### Printing"
      ]
    },
    {
      "metadata": {
        "id": "p9TddEmf3VMd",
        "colab_type": "code",
        "colab": {}
      },
      "cell_type": "code",
      "source": [
        "x = 'hello'"
      ],
      "execution_count": 0,
      "outputs": []
    },
    {
      "metadata": {
        "id": "J9gM9ClC3doX",
        "colab_type": "code",
        "colab": {
          "base_uri": "https://localhost:8080/",
          "height": 34
        },
        "outputId": "9df43778-9cec-40e9-bf60-7eca202c45bb"
      },
      "cell_type": "code",
      "source": [
        "x"
      ],
      "execution_count": 0,
      "outputs": [
        {
          "output_type": "execute_result",
          "data": {
            "text/plain": [
              "'hello'"
            ]
          },
          "metadata": {
            "tags": []
          },
          "execution_count": 118
        }
      ]
    },
    {
      "metadata": {
        "id": "vzxQe8mM3l89",
        "colab_type": "code",
        "colab": {
          "base_uri": "https://localhost:8080/",
          "height": 34
        },
        "outputId": "cdfa687c-c104-48aa-8052-e43c590ec851"
      },
      "cell_type": "code",
      "source": [
        "print(x)"
      ],
      "execution_count": 0,
      "outputs": [
        {
          "output_type": "stream",
          "text": [
            "hello\n"
          ],
          "name": "stdout"
        }
      ]
    },
    {
      "metadata": {
        "id": "sVoxA6Z_3nzj",
        "colab_type": "code",
        "colab": {}
      },
      "cell_type": "code",
      "source": [
        "code = 99\n",
        "name = 'Yash'"
      ],
      "execution_count": 0,
      "outputs": []
    },
    {
      "metadata": {
        "id": "B3K_tHcI3r0u",
        "colab_type": "code",
        "colab": {
          "base_uri": "https://localhost:8080/",
          "height": 34
        },
        "outputId": "372a58b5-6c19-41d3-db6c-6fd9eca5588d"
      },
      "cell_type": "code",
      "source": [
        "print('My name is {} and my code is {}'.format(name, code))"
      ],
      "execution_count": 0,
      "outputs": [
        {
          "output_type": "stream",
          "text": [
            "My name is Yash and my code is 99\n"
          ],
          "name": "stdout"
        }
      ]
    },
    {
      "metadata": {
        "id": "j0OaNMvu4Ovj",
        "colab_type": "code",
        "colab": {
          "base_uri": "https://localhost:8080/",
          "height": 34
        },
        "outputId": "c3cfb0be-3e5b-4cdb-db6f-a4a0db7b650f"
      },
      "cell_type": "code",
      "source": [
        "print('My name is {one} and my code is {two}'.format(one=name, two=code))"
      ],
      "execution_count": 0,
      "outputs": [
        {
          "output_type": "stream",
          "text": [
            "My name is Yash and my code is 99\n"
          ],
          "name": "stdout"
        }
      ]
    },
    {
      "metadata": {
        "id": "5IlXRHAj4s-E",
        "colab_type": "text"
      },
      "cell_type": "markdown",
      "source": [
        "### Lists"
      ]
    },
    {
      "metadata": {
        "id": "akbZGNb_4bUB",
        "colab_type": "code",
        "colab": {
          "base_uri": "https://localhost:8080/",
          "height": 34
        },
        "outputId": "a4c725b5-1335-4a08-af1c-14b47e386437"
      },
      "cell_type": "code",
      "source": [
        "[1,2,3]"
      ],
      "execution_count": 0,
      "outputs": [
        {
          "output_type": "execute_result",
          "data": {
            "text/plain": [
              "[1, 2, 3]"
            ]
          },
          "metadata": {
            "tags": []
          },
          "execution_count": 123
        }
      ]
    },
    {
      "metadata": {
        "id": "rxSSVfGu4wgK",
        "colab_type": "code",
        "colab": {
          "base_uri": "https://localhost:8080/",
          "height": 34
        },
        "outputId": "f98754b5-7bad-47dd-dee2-49cbda9b7600"
      },
      "cell_type": "code",
      "source": [
        "['hi',1,[1,2]]\n"
      ],
      "execution_count": 0,
      "outputs": [
        {
          "output_type": "execute_result",
          "data": {
            "text/plain": [
              "['hi', 1, [1, 2]]"
            ]
          },
          "metadata": {
            "tags": []
          },
          "execution_count": 124
        }
      ]
    },
    {
      "metadata": {
        "id": "97vjsGBn4ypm",
        "colab_type": "code",
        "colab": {}
      },
      "cell_type": "code",
      "source": [
        "my_list = ['a','b','c']"
      ],
      "execution_count": 0,
      "outputs": []
    },
    {
      "metadata": {
        "id": "bTwCeH_141zh",
        "colab_type": "code",
        "colab": {}
      },
      "cell_type": "code",
      "source": [
        "my_list.append('d')"
      ],
      "execution_count": 0,
      "outputs": []
    },
    {
      "metadata": {
        "id": "xS96Xaw4438H",
        "colab_type": "code",
        "colab": {
          "base_uri": "https://localhost:8080/",
          "height": 34
        },
        "outputId": "29de25a3-0fbd-43f9-8247-9d6d6a142870"
      },
      "cell_type": "code",
      "source": [
        "my_list"
      ],
      "execution_count": 0,
      "outputs": [
        {
          "output_type": "execute_result",
          "data": {
            "text/plain": [
              "['a', 'b', 'c', 'd']"
            ]
          },
          "metadata": {
            "tags": []
          },
          "execution_count": 127
        }
      ]
    },
    {
      "metadata": {
        "id": "yoz3IfoF45nD",
        "colab_type": "code",
        "colab": {
          "base_uri": "https://localhost:8080/",
          "height": 34
        },
        "outputId": "7a83f7cd-750a-4bde-d5ae-af5d13719ba3"
      },
      "cell_type": "code",
      "source": [
        "my_list[0]"
      ],
      "execution_count": 0,
      "outputs": [
        {
          "output_type": "execute_result",
          "data": {
            "text/plain": [
              "'a'"
            ]
          },
          "metadata": {
            "tags": []
          },
          "execution_count": 128
        }
      ]
    },
    {
      "metadata": {
        "id": "9ZfMKDvn47Wl",
        "colab_type": "code",
        "colab": {
          "base_uri": "https://localhost:8080/",
          "height": 34
        },
        "outputId": "8a7bc59c-487a-4a4f-9e94-d961d251620a"
      },
      "cell_type": "code",
      "source": [
        "my_list[1]"
      ],
      "execution_count": 0,
      "outputs": [
        {
          "output_type": "execute_result",
          "data": {
            "text/plain": [
              "'b'"
            ]
          },
          "metadata": {
            "tags": []
          },
          "execution_count": 129
        }
      ]
    },
    {
      "metadata": {
        "id": "jmYcwhbM48sZ",
        "colab_type": "code",
        "colab": {
          "base_uri": "https://localhost:8080/",
          "height": 34
        },
        "outputId": "d7090f3e-ab4d-40c3-a911-b108fee3d6b8"
      },
      "cell_type": "code",
      "source": [
        "my_list[1:]"
      ],
      "execution_count": 0,
      "outputs": [
        {
          "output_type": "execute_result",
          "data": {
            "text/plain": [
              "['b', 'c', 'd']"
            ]
          },
          "metadata": {
            "tags": []
          },
          "execution_count": 130
        }
      ]
    },
    {
      "metadata": {
        "id": "nmP4d-c44_E3",
        "colab_type": "code",
        "colab": {
          "base_uri": "https://localhost:8080/",
          "height": 34
        },
        "outputId": "7594c32f-bb1e-45fb-bf02-8035a3c48f44"
      },
      "cell_type": "code",
      "source": [
        "my_list[:1]"
      ],
      "execution_count": 0,
      "outputs": [
        {
          "output_type": "execute_result",
          "data": {
            "text/plain": [
              "['a']"
            ]
          },
          "metadata": {
            "tags": []
          },
          "execution_count": 131
        }
      ]
    },
    {
      "metadata": {
        "id": "5KKn22ji5BYT",
        "colab_type": "code",
        "colab": {}
      },
      "cell_type": "code",
      "source": [
        "my_list[0] = 'Yash'"
      ],
      "execution_count": 0,
      "outputs": []
    },
    {
      "metadata": {
        "id": "8uc8Fybx5EzJ",
        "colab_type": "code",
        "colab": {
          "base_uri": "https://localhost:8080/",
          "height": 34
        },
        "outputId": "d8ba81e8-efc1-42dc-c9e4-95a2e52aa86f"
      },
      "cell_type": "code",
      "source": [
        "my_list"
      ],
      "execution_count": 0,
      "outputs": [
        {
          "output_type": "execute_result",
          "data": {
            "text/plain": [
              "['Yash', 'b', 'c', 'd']"
            ]
          },
          "metadata": {
            "tags": []
          },
          "execution_count": 133
        }
      ]
    },
    {
      "metadata": {
        "id": "ij_L9KXR5GPJ",
        "colab_type": "code",
        "colab": {}
      },
      "cell_type": "code",
      "source": [
        "nest = [1,2,3,[4,5,['target']]]"
      ],
      "execution_count": 0,
      "outputs": []
    },
    {
      "metadata": {
        "id": "sGi8sypK5Ihh",
        "colab_type": "code",
        "colab": {
          "base_uri": "https://localhost:8080/",
          "height": 34
        },
        "outputId": "5065890d-ead7-430f-a8d8-77c0f1eb0468"
      },
      "cell_type": "code",
      "source": [
        "nest[3]"
      ],
      "execution_count": 0,
      "outputs": [
        {
          "output_type": "execute_result",
          "data": {
            "text/plain": [
              "[4, 5, ['target']]"
            ]
          },
          "metadata": {
            "tags": []
          },
          "execution_count": 135
        }
      ]
    },
    {
      "metadata": {
        "id": "GC_pAWKH5KNa",
        "colab_type": "code",
        "colab": {
          "base_uri": "https://localhost:8080/",
          "height": 34
        },
        "outputId": "b8c2a3d6-e402-41d3-fe5b-2c9ba067ecec"
      },
      "cell_type": "code",
      "source": [
        "nest[3][2]"
      ],
      "execution_count": 0,
      "outputs": [
        {
          "output_type": "execute_result",
          "data": {
            "text/plain": [
              "['target']"
            ]
          },
          "metadata": {
            "tags": []
          },
          "execution_count": 136
        }
      ]
    },
    {
      "metadata": {
        "id": "4AJCWsVT5NSC",
        "colab_type": "code",
        "colab": {
          "base_uri": "https://localhost:8080/",
          "height": 34
        },
        "outputId": "25170d45-e478-40a8-94e1-e356168fc2ba"
      },
      "cell_type": "code",
      "source": [
        "nest[3][2][0]"
      ],
      "execution_count": 0,
      "outputs": [
        {
          "output_type": "execute_result",
          "data": {
            "text/plain": [
              "'target'"
            ]
          },
          "metadata": {
            "tags": []
          },
          "execution_count": 137
        }
      ]
    },
    {
      "metadata": {
        "id": "SB6PyGdZ5Syc",
        "colab_type": "text"
      },
      "cell_type": "markdown",
      "source": [
        "### Dictionaries"
      ]
    },
    {
      "metadata": {
        "id": "WinNT0Ix5OvS",
        "colab_type": "code",
        "colab": {}
      },
      "cell_type": "code",
      "source": [
        "d = {'key1':'item1','key2':'item2'}"
      ],
      "execution_count": 0,
      "outputs": []
    },
    {
      "metadata": {
        "id": "hOznjvPM5WGv",
        "colab_type": "code",
        "colab": {
          "base_uri": "https://localhost:8080/",
          "height": 34
        },
        "outputId": "9231d793-9635-4743-cb67-e4c364d9d3a2"
      },
      "cell_type": "code",
      "source": [
        "d"
      ],
      "execution_count": 0,
      "outputs": [
        {
          "output_type": "execute_result",
          "data": {
            "text/plain": [
              "{'key1': 'item1', 'key2': 'item2'}"
            ]
          },
          "metadata": {
            "tags": []
          },
          "execution_count": 139
        }
      ]
    },
    {
      "metadata": {
        "id": "BuTtVkzB5Xtk",
        "colab_type": "code",
        "colab": {
          "base_uri": "https://localhost:8080/",
          "height": 34
        },
        "outputId": "3c3a68b0-f023-4b11-8bb2-840c21f21d5a"
      },
      "cell_type": "code",
      "source": [
        "d['key1']"
      ],
      "execution_count": 0,
      "outputs": [
        {
          "output_type": "execute_result",
          "data": {
            "text/plain": [
              "'item1'"
            ]
          },
          "metadata": {
            "tags": []
          },
          "execution_count": 140
        }
      ]
    },
    {
      "metadata": {
        "id": "8_BHmGo45eUC",
        "colab_type": "text"
      },
      "cell_type": "markdown",
      "source": [
        "### Booleans"
      ]
    },
    {
      "metadata": {
        "id": "6fa6u9t95ZkY",
        "colab_type": "code",
        "colab": {}
      },
      "cell_type": "code",
      "source": [
        "a = True"
      ],
      "execution_count": 0,
      "outputs": []
    },
    {
      "metadata": {
        "id": "vks1-8nt5cSo",
        "colab_type": "code",
        "colab": {
          "base_uri": "https://localhost:8080/",
          "height": 34
        },
        "outputId": "98b2c552-ea64-4b64-95d9-cf752fb2b90e"
      },
      "cell_type": "code",
      "source": [
        "a == False"
      ],
      "execution_count": 0,
      "outputs": [
        {
          "output_type": "execute_result",
          "data": {
            "text/plain": [
              "False"
            ]
          },
          "metadata": {
            "tags": []
          },
          "execution_count": 142
        }
      ]
    },
    {
      "metadata": {
        "id": "4_VfftWq5zMc",
        "colab_type": "code",
        "colab": {
          "base_uri": "https://localhost:8080/",
          "height": 34
        },
        "outputId": "0aee086c-2880-417e-9314-a6e5b1d586a4"
      },
      "cell_type": "code",
      "source": [
        "a == True"
      ],
      "execution_count": 0,
      "outputs": [
        {
          "output_type": "execute_result",
          "data": {
            "text/plain": [
              "True"
            ]
          },
          "metadata": {
            "tags": []
          },
          "execution_count": 143
        }
      ]
    },
    {
      "metadata": {
        "id": "Tn0Dpk2e6H23",
        "colab_type": "text"
      },
      "cell_type": "markdown",
      "source": [
        "### Tuples"
      ]
    },
    {
      "metadata": {
        "id": "whA96ytJ6AyS",
        "colab_type": "code",
        "colab": {}
      },
      "cell_type": "code",
      "source": [
        "t = (1,2,3)"
      ],
      "execution_count": 0,
      "outputs": []
    },
    {
      "metadata": {
        "id": "HFpa1Mtd6LBo",
        "colab_type": "code",
        "colab": {
          "base_uri": "https://localhost:8080/",
          "height": 34
        },
        "outputId": "586ad947-0b82-4458-8b1d-0f692350b0a4"
      },
      "cell_type": "code",
      "source": [
        "t[0]"
      ],
      "execution_count": 0,
      "outputs": [
        {
          "output_type": "execute_result",
          "data": {
            "text/plain": [
              "1"
            ]
          },
          "metadata": {
            "tags": []
          },
          "execution_count": 145
        }
      ]
    },
    {
      "metadata": {
        "id": "DgyyEZag6MNe",
        "colab_type": "code",
        "colab": {
          "base_uri": "https://localhost:8080/",
          "height": 167
        },
        "outputId": "da185055-1c63-4096-a731-871d114896dc"
      },
      "cell_type": "code",
      "source": [
        "t[0] = 'NEW' # tuple is immutable"
      ],
      "execution_count": 0,
      "outputs": [
        {
          "output_type": "error",
          "ename": "TypeError",
          "evalue": "ignored",
          "traceback": [
            "\u001b[0;31m---------------------------------------------------------------------------\u001b[0m",
            "\u001b[0;31mTypeError\u001b[0m                                 Traceback (most recent call last)",
            "\u001b[0;32m<ipython-input-146-80b6b2c14da5>\u001b[0m in \u001b[0;36m<module>\u001b[0;34m()\u001b[0m\n\u001b[0;32m----> 1\u001b[0;31m \u001b[0mt\u001b[0m\u001b[0;34m[\u001b[0m\u001b[0;36m0\u001b[0m\u001b[0;34m]\u001b[0m \u001b[0;34m=\u001b[0m \u001b[0;34m'NEW'\u001b[0m \u001b[0;31m# tuple is immutable\u001b[0m\u001b[0;34m\u001b[0m\u001b[0m\n\u001b[0m",
            "\u001b[0;31mTypeError\u001b[0m: 'tuple' object does not support item assignment"
          ]
        }
      ]
    },
    {
      "metadata": {
        "id": "ezaZ5cZl6Y34",
        "colab_type": "text"
      },
      "cell_type": "markdown",
      "source": [
        "### Sets"
      ]
    },
    {
      "metadata": {
        "id": "g8lqL3IF6OTn",
        "colab_type": "code",
        "colab": {
          "base_uri": "https://localhost:8080/",
          "height": 34
        },
        "outputId": "039d90a8-8b26-4862-dcce-3969dbd1fd8a"
      },
      "cell_type": "code",
      "source": [
        "{1,2,3}"
      ],
      "execution_count": 0,
      "outputs": [
        {
          "output_type": "execute_result",
          "data": {
            "text/plain": [
              "{1, 2, 3}"
            ]
          },
          "metadata": {
            "tags": []
          },
          "execution_count": 147
        }
      ]
    },
    {
      "metadata": {
        "id": "NRQqY00Z6a1S",
        "colab_type": "code",
        "colab": {
          "base_uri": "https://localhost:8080/",
          "height": 34
        },
        "outputId": "2e97ba32-0ef5-4c11-db74-c8c0bf9f3a7d"
      },
      "cell_type": "code",
      "source": [
        "{1,2,3,1,2,1,2,3,3,3,3,2,2,2,1,1,2}"
      ],
      "execution_count": 0,
      "outputs": [
        {
          "output_type": "execute_result",
          "data": {
            "text/plain": [
              "{1, 2, 3}"
            ]
          },
          "metadata": {
            "tags": []
          },
          "execution_count": 148
        }
      ]
    },
    {
      "metadata": {
        "id": "OoSnNOv26dly",
        "colab_type": "text"
      },
      "cell_type": "markdown",
      "source": [
        "### Comparison Operators"
      ]
    },
    {
      "metadata": {
        "id": "7LTQ6p1h6b3j",
        "colab_type": "code",
        "colab": {
          "base_uri": "https://localhost:8080/",
          "height": 34
        },
        "outputId": "d8e7be97-b086-4c6d-858e-7c077b5ac092"
      },
      "cell_type": "code",
      "source": [
        "1 > 2"
      ],
      "execution_count": 0,
      "outputs": [
        {
          "output_type": "execute_result",
          "data": {
            "text/plain": [
              "False"
            ]
          },
          "metadata": {
            "tags": []
          },
          "execution_count": 149
        }
      ]
    },
    {
      "metadata": {
        "id": "HwuKFV9p6h8m",
        "colab_type": "code",
        "colab": {
          "base_uri": "https://localhost:8080/",
          "height": 34
        },
        "outputId": "836f0706-bad6-4911-e152-1bf24182834f"
      },
      "cell_type": "code",
      "source": [
        "1 < 2"
      ],
      "execution_count": 0,
      "outputs": [
        {
          "output_type": "execute_result",
          "data": {
            "text/plain": [
              "True"
            ]
          },
          "metadata": {
            "tags": []
          },
          "execution_count": 150
        }
      ]
    },
    {
      "metadata": {
        "id": "Nlbab_Dh6jBp",
        "colab_type": "code",
        "colab": {
          "base_uri": "https://localhost:8080/",
          "height": 34
        },
        "outputId": "922eb20a-5a2f-4919-a7a7-b6d5cd25d312"
      },
      "cell_type": "code",
      "source": [
        "'hi' == 'bye'"
      ],
      "execution_count": 0,
      "outputs": [
        {
          "output_type": "execute_result",
          "data": {
            "text/plain": [
              "False"
            ]
          },
          "metadata": {
            "tags": []
          },
          "execution_count": 151
        }
      ]
    },
    {
      "metadata": {
        "id": "uQKQhJkf6mIA",
        "colab_type": "code",
        "colab": {
          "base_uri": "https://localhost:8080/",
          "height": 34
        },
        "outputId": "c30082db-88f9-40cf-a1fa-647c76535e62"
      },
      "cell_type": "code",
      "source": [
        "'hi' == 'hi'"
      ],
      "execution_count": 0,
      "outputs": [
        {
          "output_type": "execute_result",
          "data": {
            "text/plain": [
              "True"
            ]
          },
          "metadata": {
            "tags": []
          },
          "execution_count": 152
        }
      ]
    },
    {
      "metadata": {
        "id": "MTsTvmyc6sGE",
        "colab_type": "text"
      },
      "cell_type": "markdown",
      "source": [
        "### Logic Operators"
      ]
    },
    {
      "metadata": {
        "id": "2lGfHXAE6o2S",
        "colab_type": "code",
        "colab": {
          "base_uri": "https://localhost:8080/",
          "height": 34
        },
        "outputId": "5b51f02c-7c24-448c-fa26-6c76341ad2fa"
      },
      "cell_type": "code",
      "source": [
        "(1 > 2) and (2 < 3)"
      ],
      "execution_count": 0,
      "outputs": [
        {
          "output_type": "execute_result",
          "data": {
            "text/plain": [
              "False"
            ]
          },
          "metadata": {
            "tags": []
          },
          "execution_count": 153
        }
      ]
    },
    {
      "metadata": {
        "id": "09CkE1qh6vWM",
        "colab_type": "code",
        "colab": {
          "base_uri": "https://localhost:8080/",
          "height": 34
        },
        "outputId": "6f8b1e78-5d35-48ba-e196-0df94e7c6104"
      },
      "cell_type": "code",
      "source": [
        "(1 > 2) or (2 < 3)"
      ],
      "execution_count": 0,
      "outputs": [
        {
          "output_type": "execute_result",
          "data": {
            "text/plain": [
              "True"
            ]
          },
          "metadata": {
            "tags": []
          },
          "execution_count": 154
        }
      ]
    },
    {
      "metadata": {
        "id": "w4oiqTap6xCN",
        "colab_type": "code",
        "colab": {
          "base_uri": "https://localhost:8080/",
          "height": 34
        },
        "outputId": "5287f93e-3ab2-44e9-95b5-440cbddf8a72"
      },
      "cell_type": "code",
      "source": [
        "(1 == 2) or (2 == 3) or (4 == 4)"
      ],
      "execution_count": 0,
      "outputs": [
        {
          "output_type": "execute_result",
          "data": {
            "text/plain": [
              "True"
            ]
          },
          "metadata": {
            "tags": []
          },
          "execution_count": 155
        }
      ]
    },
    {
      "metadata": {
        "id": "JQFE5swa61wa",
        "colab_type": "text"
      },
      "cell_type": "markdown",
      "source": [
        "## Conditions"
      ]
    },
    {
      "metadata": {
        "id": "rPqx0A-C7LJk",
        "colab_type": "text"
      },
      "cell_type": "markdown",
      "source": [
        "### if statement"
      ]
    },
    {
      "metadata": {
        "id": "ZE-dL8qM6zsH",
        "colab_type": "code",
        "colab": {
          "base_uri": "https://localhost:8080/",
          "height": 34
        },
        "outputId": "d8446aa6-4790-480f-9385-4f51052995ff"
      },
      "cell_type": "code",
      "source": [
        "if 1 < 2:\n",
        "    print('Yep!')"
      ],
      "execution_count": 0,
      "outputs": [
        {
          "output_type": "stream",
          "text": [
            "Yep!\n"
          ],
          "name": "stdout"
        }
      ]
    },
    {
      "metadata": {
        "id": "RzHN-ByZ7Q-m",
        "colab_type": "code",
        "colab": {}
      },
      "cell_type": "code",
      "source": [
        "if 1 > 2:\n",
        "    print('yep!')"
      ],
      "execution_count": 0,
      "outputs": []
    },
    {
      "metadata": {
        "id": "Hf0ozL3J9YRQ",
        "colab_type": "code",
        "colab": {
          "base_uri": "https://localhost:8080/",
          "height": 34
        },
        "outputId": "40fda9ef-5deb-4bdd-ec40-37b548e330c1"
      },
      "cell_type": "code",
      "source": [
        "lst = ['larry', 'curly', 'moe']\n",
        "if 'curly' in lst:\n",
        "  print ('Yay')"
      ],
      "execution_count": 0,
      "outputs": [
        {
          "output_type": "stream",
          "text": [
            "Yay\n"
          ],
          "name": "stdout"
        }
      ]
    },
    {
      "metadata": {
        "id": "c6AxCHy27YPA",
        "colab_type": "text"
      },
      "cell_type": "markdown",
      "source": [
        "### if...else statement"
      ]
    },
    {
      "metadata": {
        "id": "RUZpllLv7WmZ",
        "colab_type": "code",
        "colab": {
          "base_uri": "https://localhost:8080/",
          "height": 34
        },
        "outputId": "326c6cb1-30e3-4b71-e9cf-c746ee92cec6"
      },
      "cell_type": "code",
      "source": [
        "if 1 < 2:\n",
        "    print('first')\n",
        "else:\n",
        "    print('last')"
      ],
      "execution_count": 0,
      "outputs": [
        {
          "output_type": "stream",
          "text": [
            "first\n"
          ],
          "name": "stdout"
        }
      ]
    },
    {
      "metadata": {
        "id": "dlgfA--V7etY",
        "colab_type": "code",
        "colab": {
          "base_uri": "https://localhost:8080/",
          "height": 34
        },
        "outputId": "9020c3b8-ec87-4f33-98f1-0664322bf9ed"
      },
      "cell_type": "code",
      "source": [
        "if 1 > 2:\n",
        "    print('first')\n",
        "else:\n",
        "    print('last')"
      ],
      "execution_count": 0,
      "outputs": [
        {
          "output_type": "stream",
          "text": [
            "last\n"
          ],
          "name": "stdout"
        }
      ]
    },
    {
      "metadata": {
        "id": "NnzpPWfM7lRF",
        "colab_type": "text"
      },
      "cell_type": "markdown",
      "source": [
        "### if...else...elif statement"
      ]
    },
    {
      "metadata": {
        "id": "CkEyXxnO7ivK",
        "colab_type": "code",
        "colab": {
          "base_uri": "https://localhost:8080/",
          "height": 34
        },
        "outputId": "47552047-03f8-408b-e4fc-0b551d72d2b0"
      },
      "cell_type": "code",
      "source": [
        "if 1 == 2:\n",
        "    print('first')\n",
        "    \n",
        "elif 3 == 3:\n",
        "    print('middle')\n",
        "    \n",
        "else:\n",
        "    print('Last')"
      ],
      "execution_count": 0,
      "outputs": [
        {
          "output_type": "stream",
          "text": [
            "middle\n"
          ],
          "name": "stdout"
        }
      ]
    },
    {
      "metadata": {
        "id": "HoCoPly67v9e",
        "colab_type": "text"
      },
      "cell_type": "markdown",
      "source": [
        "## Loops"
      ]
    },
    {
      "metadata": {
        "id": "JfOHwO7q70iR",
        "colab_type": "text"
      },
      "cell_type": "markdown",
      "source": [
        "### For loop"
      ]
    },
    {
      "metadata": {
        "id": "3YCD50be7y45",
        "colab_type": "code",
        "colab": {}
      },
      "cell_type": "code",
      "source": [
        "seq = [1,2,3,4,5]"
      ],
      "execution_count": 0,
      "outputs": []
    },
    {
      "metadata": {
        "id": "JlS8IsHh73qw",
        "colab_type": "code",
        "colab": {
          "base_uri": "https://localhost:8080/",
          "height": 104
        },
        "outputId": "549c94d1-e4c7-45b5-cdc0-2253d6abd413"
      },
      "cell_type": "code",
      "source": [
        "for item in seq:\n",
        "    print(item)"
      ],
      "execution_count": 0,
      "outputs": [
        {
          "output_type": "stream",
          "text": [
            "1\n",
            "2\n",
            "3\n",
            "4\n",
            "5\n"
          ],
          "name": "stdout"
        }
      ]
    },
    {
      "metadata": {
        "id": "hdDYvzFC75Ug",
        "colab_type": "code",
        "colab": {
          "base_uri": "https://localhost:8080/",
          "height": 104
        },
        "outputId": "fb3bc5a4-10d8-4493-c50a-87cf052a5740"
      },
      "cell_type": "code",
      "source": [
        "for item in seq:\n",
        "    print('Yep')"
      ],
      "execution_count": 0,
      "outputs": [
        {
          "output_type": "stream",
          "text": [
            "Yep\n",
            "Yep\n",
            "Yep\n",
            "Yep\n",
            "Yep\n"
          ],
          "name": "stdout"
        }
      ]
    },
    {
      "metadata": {
        "id": "jio0SxZa77Py",
        "colab_type": "code",
        "colab": {
          "base_uri": "https://localhost:8080/",
          "height": 104
        },
        "outputId": "c786c16c-b779-411f-8654-fa1313891969"
      },
      "cell_type": "code",
      "source": [
        "countries = \"USA,India,China,Canada,UK\"\n",
        "\n",
        "for country in countries.split(','):\n",
        "  print(country)"
      ],
      "execution_count": 0,
      "outputs": [
        {
          "output_type": "stream",
          "text": [
            "USA\n",
            "India\n",
            "China\n",
            "Canada\n",
            "UK\n"
          ],
          "name": "stdout"
        }
      ]
    },
    {
      "metadata": {
        "id": "kmW6C-E49IN_",
        "colab_type": "text"
      },
      "cell_type": "markdown",
      "source": [
        "### While loop"
      ]
    },
    {
      "metadata": {
        "id": "QV25CZ6Z79dE",
        "colab_type": "code",
        "colab": {
          "base_uri": "https://localhost:8080/",
          "height": 86
        },
        "outputId": "f3eef664-d8e7-4c84-bd7e-692b72024560"
      },
      "cell_type": "code",
      "source": [
        "i = 1\n",
        "while i < 5:\n",
        "    print('i is: {}'.format(i))\n",
        "    i = i+1"
      ],
      "execution_count": 0,
      "outputs": [
        {
          "output_type": "stream",
          "text": [
            "i is: 1\n",
            "i is: 2\n",
            "i is: 3\n",
            "i is: 4\n"
          ],
          "name": "stdout"
        }
      ]
    },
    {
      "metadata": {
        "id": "Ttoh0TJI_DuL",
        "colab_type": "text"
      },
      "cell_type": "markdown",
      "source": [
        "## More Python"
      ]
    },
    {
      "metadata": {
        "id": "yNwkW9tTADT2",
        "colab_type": "text"
      },
      "cell_type": "markdown",
      "source": [
        "### range() function"
      ]
    },
    {
      "metadata": {
        "id": "dFfmcHMQ9L5R",
        "colab_type": "code",
        "colab": {
          "base_uri": "https://localhost:8080/",
          "height": 34
        },
        "outputId": "18a1aabd-f64c-4f38-ca8d-2738a7b83b93"
      },
      "cell_type": "code",
      "source": [
        "range(5)"
      ],
      "execution_count": 0,
      "outputs": [
        {
          "output_type": "execute_result",
          "data": {
            "text/plain": [
              "range(0, 5)"
            ]
          },
          "metadata": {
            "tags": []
          },
          "execution_count": 168
        }
      ]
    },
    {
      "metadata": {
        "id": "oStMPWpNALWD",
        "colab_type": "code",
        "colab": {
          "base_uri": "https://localhost:8080/",
          "height": 104
        },
        "outputId": "55a1e38f-9f15-403b-9224-a1447b15df80"
      },
      "cell_type": "code",
      "source": [
        "for i in range(5):\n",
        "    print(i)"
      ],
      "execution_count": 0,
      "outputs": [
        {
          "output_type": "stream",
          "text": [
            "0\n",
            "1\n",
            "2\n",
            "3\n",
            "4\n"
          ],
          "name": "stdout"
        }
      ]
    },
    {
      "metadata": {
        "id": "-CJIxSCcANip",
        "colab_type": "code",
        "colab": {
          "base_uri": "https://localhost:8080/",
          "height": 191
        },
        "outputId": "c28ccc19-e218-4452-e96f-f4ebd9a2d559"
      },
      "cell_type": "code",
      "source": [
        "for i in range(0, 10):\n",
        "    print(i)"
      ],
      "execution_count": 0,
      "outputs": [
        {
          "output_type": "stream",
          "text": [
            "0\n",
            "1\n",
            "2\n",
            "3\n",
            "4\n",
            "5\n",
            "6\n",
            "7\n",
            "8\n",
            "9\n"
          ],
          "name": "stdout"
        }
      ]
    },
    {
      "metadata": {
        "id": "LPYoIakFAPPB",
        "colab_type": "code",
        "colab": {
          "base_uri": "https://localhost:8080/",
          "height": 104
        },
        "outputId": "12b96ece-9057-49d6-8219-38962a752595"
      },
      "cell_type": "code",
      "source": [
        "for i in range(0,10,2):\n",
        "    print(i)"
      ],
      "execution_count": 0,
      "outputs": [
        {
          "output_type": "stream",
          "text": [
            "0\n",
            "2\n",
            "4\n",
            "6\n",
            "8\n"
          ],
          "name": "stdout"
        }
      ]
    },
    {
      "metadata": {
        "id": "w8llrVvUBBig",
        "colab_type": "text"
      },
      "cell_type": "markdown",
      "source": [
        "### list comprehension"
      ]
    },
    {
      "metadata": {
        "id": "Xw0tYo5YA9aW",
        "colab_type": "code",
        "colab": {}
      },
      "cell_type": "code",
      "source": [
        "x = [1,2,3,4]"
      ],
      "execution_count": 0,
      "outputs": []
    },
    {
      "metadata": {
        "id": "Mq5SjlDtBFFK",
        "colab_type": "code",
        "colab": {
          "base_uri": "https://localhost:8080/",
          "height": 34
        },
        "outputId": "4c2b5c73-9516-4a36-e407-2673664f6a54"
      },
      "cell_type": "code",
      "source": [
        "out = []\n",
        "\n",
        "for item in x:\n",
        "  out.append(item**2)\n",
        "\n",
        "print(out)"
      ],
      "execution_count": 0,
      "outputs": [
        {
          "output_type": "stream",
          "text": [
            "[1, 4, 9, 16]\n"
          ],
          "name": "stdout"
        }
      ]
    },
    {
      "metadata": {
        "id": "TxSTGeWSBIxe",
        "colab_type": "code",
        "colab": {
          "base_uri": "https://localhost:8080/",
          "height": 34
        },
        "outputId": "d166e8a8-f041-40d1-a45a-acf1bac3046d"
      },
      "cell_type": "code",
      "source": [
        "[item**2 for item in x]"
      ],
      "execution_count": 0,
      "outputs": [
        {
          "output_type": "execute_result",
          "data": {
            "text/plain": [
              "[1, 4, 9, 16]"
            ]
          },
          "metadata": {
            "tags": []
          },
          "execution_count": 174
        }
      ]
    },
    {
      "metadata": {
        "id": "6-tB6Fd-BVq4",
        "colab_type": "text"
      },
      "cell_type": "markdown",
      "source": [
        "### functions"
      ]
    },
    {
      "metadata": {
        "id": "tzy4PAFHBTVT",
        "colab_type": "code",
        "colab": {}
      },
      "cell_type": "code",
      "source": [
        "def my_func(param1='default'):\n",
        "    \"\"\"\n",
        "    Docstring goes here.\n",
        "    \"\"\"\n",
        "    print(param1)"
      ],
      "execution_count": 0,
      "outputs": []
    },
    {
      "metadata": {
        "id": "zMv4gU2kBZ6O",
        "colab_type": "code",
        "colab": {
          "base_uri": "https://localhost:8080/",
          "height": 34
        },
        "outputId": "704960e2-e62f-45ca-a60e-7aa3046cc545"
      },
      "cell_type": "code",
      "source": [
        "my_func"
      ],
      "execution_count": 0,
      "outputs": [
        {
          "output_type": "execute_result",
          "data": {
            "text/plain": [
              "<function __main__.my_func>"
            ]
          },
          "metadata": {
            "tags": []
          },
          "execution_count": 176
        }
      ]
    },
    {
      "metadata": {
        "id": "VP1rX1jVBbl-",
        "colab_type": "code",
        "colab": {
          "base_uri": "https://localhost:8080/",
          "height": 34
        },
        "outputId": "c665eb62-d1e5-4cf9-9547-7272502adef3"
      },
      "cell_type": "code",
      "source": [
        "my_func()"
      ],
      "execution_count": 0,
      "outputs": [
        {
          "output_type": "stream",
          "text": [
            "default\n"
          ],
          "name": "stdout"
        }
      ]
    },
    {
      "metadata": {
        "id": "JAlwqInIBdgi",
        "colab_type": "code",
        "colab": {
          "base_uri": "https://localhost:8080/",
          "height": 34
        },
        "outputId": "4c1b1c53-43e9-4666-e39f-92ecdded7458"
      },
      "cell_type": "code",
      "source": [
        "my_func('new param')"
      ],
      "execution_count": 0,
      "outputs": [
        {
          "output_type": "stream",
          "text": [
            "new param\n"
          ],
          "name": "stdout"
        }
      ]
    },
    {
      "metadata": {
        "id": "-U-D0IdjBhgm",
        "colab_type": "code",
        "colab": {
          "base_uri": "https://localhost:8080/",
          "height": 34
        },
        "outputId": "d0a2e0af-badd-40e5-d61d-6e299fe8fdc7"
      },
      "cell_type": "code",
      "source": [
        "my_func(param1='totally new param')"
      ],
      "execution_count": 0,
      "outputs": [
        {
          "output_type": "stream",
          "text": [
            "totally new param\n"
          ],
          "name": "stdout"
        }
      ]
    },
    {
      "metadata": {
        "id": "lYNqQ4SYBvYK",
        "colab_type": "code",
        "colab": {}
      },
      "cell_type": "code",
      "source": [
        "def square(x):\n",
        "    return x**2"
      ],
      "execution_count": 0,
      "outputs": []
    },
    {
      "metadata": {
        "id": "HkC6ln2-B47f",
        "colab_type": "code",
        "colab": {
          "base_uri": "https://localhost:8080/",
          "height": 34
        },
        "outputId": "62dd63ea-c282-4b5e-df32-1b58e4ce803c"
      },
      "cell_type": "code",
      "source": [
        "square(2)"
      ],
      "execution_count": 0,
      "outputs": [
        {
          "output_type": "execute_result",
          "data": {
            "text/plain": [
              "4"
            ]
          },
          "metadata": {
            "tags": []
          },
          "execution_count": 181
        }
      ]
    },
    {
      "metadata": {
        "id": "ATnOzSi4CBrL",
        "colab_type": "text"
      },
      "cell_type": "markdown",
      "source": [
        "### lambda expressions"
      ]
    },
    {
      "metadata": {
        "id": "lZT-xPt3B73d",
        "colab_type": "code",
        "colab": {}
      },
      "cell_type": "code",
      "source": [
        "def times2(var):\n",
        "    return var*2"
      ],
      "execution_count": 0,
      "outputs": []
    },
    {
      "metadata": {
        "id": "l8JXcWOUCFB-",
        "colab_type": "code",
        "colab": {
          "base_uri": "https://localhost:8080/",
          "height": 34
        },
        "outputId": "98b4397f-097b-44d8-bf38-0b63de7f3928"
      },
      "cell_type": "code",
      "source": [
        "times2(2)"
      ],
      "execution_count": 0,
      "outputs": [
        {
          "output_type": "execute_result",
          "data": {
            "text/plain": [
              "4"
            ]
          },
          "metadata": {
            "tags": []
          },
          "execution_count": 183
        }
      ]
    },
    {
      "metadata": {
        "id": "xdJj0JDyCGbq",
        "colab_type": "code",
        "colab": {
          "base_uri": "https://localhost:8080/",
          "height": 34
        },
        "outputId": "6d60e32b-4bae-4376-e6ae-2497445111ce"
      },
      "cell_type": "code",
      "source": [
        "lambda var: var*2"
      ],
      "execution_count": 0,
      "outputs": [
        {
          "output_type": "execute_result",
          "data": {
            "text/plain": [
              "<function __main__.<lambda>>"
            ]
          },
          "metadata": {
            "tags": []
          },
          "execution_count": 184
        }
      ]
    },
    {
      "metadata": {
        "id": "WkoFTDVECghK",
        "colab_type": "text"
      },
      "cell_type": "markdown",
      "source": [
        "###map and filter"
      ]
    },
    {
      "metadata": {
        "id": "kIAgqzLOELeq",
        "colab_type": "text"
      },
      "cell_type": "markdown",
      "source": [
        "![alt text](https://i.redditmedia.com/u9-PgDOTelaF0DegOH6ax2QSZgw-XdcT27rGdpr_V5M.jpg?fit=crop&crop=faces%2Centropy&arh=2&w=960&s=a9aab85b46ad1528e8e139a4d6fbda17)"
      ]
    },
    {
      "metadata": {
        "id": "3fEZHcdTCI4i",
        "colab_type": "code",
        "colab": {}
      },
      "cell_type": "code",
      "source": [
        "seq = [1,2,3,4,5]"
      ],
      "execution_count": 0,
      "outputs": []
    },
    {
      "metadata": {
        "id": "dQgDAqeWEX_x",
        "colab_type": "code",
        "colab": {
          "base_uri": "https://localhost:8080/",
          "height": 34
        },
        "outputId": "58e22a32-064d-4705-904b-c62d9089aa18"
      },
      "cell_type": "code",
      "source": [
        "map(times2,seq)"
      ],
      "execution_count": 0,
      "outputs": [
        {
          "output_type": "execute_result",
          "data": {
            "text/plain": [
              "<map at 0x7f53b7ed4860>"
            ]
          },
          "metadata": {
            "tags": []
          },
          "execution_count": 186
        }
      ]
    },
    {
      "metadata": {
        "id": "0PY9cnKuEalM",
        "colab_type": "code",
        "colab": {
          "base_uri": "https://localhost:8080/",
          "height": 34
        },
        "outputId": "9c33fc13-a593-4070-b262-6dc81d48bcbd"
      },
      "cell_type": "code",
      "source": [
        "list(map(times2,seq))"
      ],
      "execution_count": 0,
      "outputs": [
        {
          "output_type": "execute_result",
          "data": {
            "text/plain": [
              "[2, 4, 6, 8, 10]"
            ]
          },
          "metadata": {
            "tags": []
          },
          "execution_count": 187
        }
      ]
    },
    {
      "metadata": {
        "id": "FgIen4WgEb4r",
        "colab_type": "code",
        "colab": {
          "base_uri": "https://localhost:8080/",
          "height": 34
        },
        "outputId": "45384666-e70f-4374-cc1f-ce68bf3a7491"
      },
      "cell_type": "code",
      "source": [
        "list(map(lambda var: var*2,seq))"
      ],
      "execution_count": 0,
      "outputs": [
        {
          "output_type": "execute_result",
          "data": {
            "text/plain": [
              "[2, 4, 6, 8, 10]"
            ]
          },
          "metadata": {
            "tags": []
          },
          "execution_count": 188
        }
      ]
    },
    {
      "metadata": {
        "id": "TFSFfya1EdYM",
        "colab_type": "code",
        "colab": {
          "base_uri": "https://localhost:8080/",
          "height": 34
        },
        "outputId": "f21c6ac1-acfd-4f49-891f-fae0e7776255"
      },
      "cell_type": "code",
      "source": [
        "filter(lambda item: item%2 == 0,seq)"
      ],
      "execution_count": 0,
      "outputs": [
        {
          "output_type": "execute_result",
          "data": {
            "text/plain": [
              "<filter at 0x7f53b7ed47b8>"
            ]
          },
          "metadata": {
            "tags": []
          },
          "execution_count": 189
        }
      ]
    },
    {
      "metadata": {
        "id": "Y9rJh8s5Ga5K",
        "colab_type": "code",
        "colab": {
          "base_uri": "https://localhost:8080/",
          "height": 34
        },
        "outputId": "d3e79163-f5ad-4410-81b2-ff7f2759ff70"
      },
      "cell_type": "code",
      "source": [
        "list(filter(lambda item: item%2 == 0,seq))"
      ],
      "execution_count": 0,
      "outputs": [
        {
          "output_type": "execute_result",
          "data": {
            "text/plain": [
              "[2, 4]"
            ]
          },
          "metadata": {
            "tags": []
          },
          "execution_count": 190
        }
      ]
    },
    {
      "metadata": {
        "id": "Gnhjh8bcGpi0",
        "colab_type": "text"
      },
      "cell_type": "markdown",
      "source": [
        "### Methods"
      ]
    },
    {
      "metadata": {
        "id": "mgqNyLqHGmYL",
        "colab_type": "code",
        "colab": {}
      },
      "cell_type": "code",
      "source": [
        "st = 'hello my name is Yash'"
      ],
      "execution_count": 0,
      "outputs": []
    },
    {
      "metadata": {
        "id": "Q1MpXkDKG0Io",
        "colab_type": "code",
        "colab": {
          "base_uri": "https://localhost:8080/",
          "height": 34
        },
        "outputId": "361fe970-0844-476a-bae8-135214bef451"
      },
      "cell_type": "code",
      "source": [
        "st.lower()"
      ],
      "execution_count": 0,
      "outputs": [
        {
          "output_type": "execute_result",
          "data": {
            "text/plain": [
              "'hello my name is yash'"
            ]
          },
          "metadata": {
            "tags": []
          },
          "execution_count": 200
        }
      ]
    },
    {
      "metadata": {
        "id": "6c5Wq4hRG5VY",
        "colab_type": "code",
        "colab": {
          "base_uri": "https://localhost:8080/",
          "height": 34
        },
        "outputId": "b32d20bf-1608-47da-8005-8b3e2ef5003d"
      },
      "cell_type": "code",
      "source": [
        "st.upper()"
      ],
      "execution_count": 0,
      "outputs": [
        {
          "output_type": "execute_result",
          "data": {
            "text/plain": [
              "'HELLO MY NAME IS YASH'"
            ]
          },
          "metadata": {
            "tags": []
          },
          "execution_count": 201
        }
      ]
    },
    {
      "metadata": {
        "id": "rMYtZHloG9ux",
        "colab_type": "code",
        "colab": {
          "base_uri": "https://localhost:8080/",
          "height": 34
        },
        "outputId": "32275a5d-a04d-4ccb-f790-cb839c6d31d6"
      },
      "cell_type": "code",
      "source": [
        "st.split()"
      ],
      "execution_count": 0,
      "outputs": [
        {
          "output_type": "execute_result",
          "data": {
            "text/plain": [
              "['hello', 'my', 'name', 'is', 'Yash']"
            ]
          },
          "metadata": {
            "tags": []
          },
          "execution_count": 202
        }
      ]
    },
    {
      "metadata": {
        "id": "6Y3iFDEqHATy",
        "colab_type": "code",
        "colab": {}
      },
      "cell_type": "code",
      "source": [
        "tweet = 'Go Sports! #Sports'"
      ],
      "execution_count": 0,
      "outputs": []
    },
    {
      "metadata": {
        "id": "dTqhXCU9HEAH",
        "colab_type": "code",
        "colab": {
          "base_uri": "https://localhost:8080/",
          "height": 34
        },
        "outputId": "ffdcc7b1-c14f-4eab-f930-62b040a79eaf"
      },
      "cell_type": "code",
      "source": [
        "tweet.split('#')"
      ],
      "execution_count": 0,
      "outputs": [
        {
          "output_type": "execute_result",
          "data": {
            "text/plain": [
              "['Go Sports! ', 'Sports']"
            ]
          },
          "metadata": {
            "tags": []
          },
          "execution_count": 204
        }
      ]
    },
    {
      "metadata": {
        "id": "cTzaRYqmHJkD",
        "colab_type": "code",
        "colab": {
          "base_uri": "https://localhost:8080/",
          "height": 34
        },
        "outputId": "0db4f6c7-30a9-4044-9d7f-166936c697c3"
      },
      "cell_type": "code",
      "source": [
        "tweet.split('#')[1]"
      ],
      "execution_count": 0,
      "outputs": [
        {
          "output_type": "execute_result",
          "data": {
            "text/plain": [
              "'Sports'"
            ]
          },
          "metadata": {
            "tags": []
          },
          "execution_count": 205
        }
      ]
    },
    {
      "metadata": {
        "id": "DkqWJekHHOMu",
        "colab_type": "code",
        "colab": {
          "base_uri": "https://localhost:8080/",
          "height": 34
        },
        "outputId": "755c0f66-483c-4aff-dee1-0dd12b7c99a2"
      },
      "cell_type": "code",
      "source": [
        "d"
      ],
      "execution_count": 0,
      "outputs": [
        {
          "output_type": "execute_result",
          "data": {
            "text/plain": [
              "{'key1': 'item1', 'key2': 'item2'}"
            ]
          },
          "metadata": {
            "tags": []
          },
          "execution_count": 206
        }
      ]
    },
    {
      "metadata": {
        "id": "ZQBceDOYHbX6",
        "colab_type": "code",
        "colab": {
          "base_uri": "https://localhost:8080/",
          "height": 34
        },
        "outputId": "d65df877-309a-45f8-d726-49728e505b4a"
      },
      "cell_type": "code",
      "source": [
        "d.keys()"
      ],
      "execution_count": 0,
      "outputs": [
        {
          "output_type": "execute_result",
          "data": {
            "text/plain": [
              "dict_keys(['key1', 'key2'])"
            ]
          },
          "metadata": {
            "tags": []
          },
          "execution_count": 207
        }
      ]
    },
    {
      "metadata": {
        "id": "IuriVOx8HdzW",
        "colab_type": "code",
        "colab": {
          "base_uri": "https://localhost:8080/",
          "height": 34
        },
        "outputId": "8b690603-b4e3-4c25-e993-4a39f8b8308f"
      },
      "cell_type": "code",
      "source": [
        "d.items()"
      ],
      "execution_count": 0,
      "outputs": [
        {
          "output_type": "execute_result",
          "data": {
            "text/plain": [
              "dict_items([('key1', 'item1'), ('key2', 'item2')])"
            ]
          },
          "metadata": {
            "tags": []
          },
          "execution_count": 208
        }
      ]
    },
    {
      "metadata": {
        "id": "cOSP4EJoHoUD",
        "colab_type": "code",
        "colab": {}
      },
      "cell_type": "code",
      "source": [
        "lst = [1,2,3]"
      ],
      "execution_count": 0,
      "outputs": []
    },
    {
      "metadata": {
        "id": "Cu0KJRXuHqji",
        "colab_type": "code",
        "colab": {
          "base_uri": "https://localhost:8080/",
          "height": 34
        },
        "outputId": "e4c76836-9821-4c57-825b-740984d21d11"
      },
      "cell_type": "code",
      "source": [
        "lst.pop()"
      ],
      "execution_count": 0,
      "outputs": [
        {
          "output_type": "execute_result",
          "data": {
            "text/plain": [
              "3"
            ]
          },
          "metadata": {
            "tags": []
          },
          "execution_count": 210
        }
      ]
    },
    {
      "metadata": {
        "id": "3xIZwjgtHtcX",
        "colab_type": "code",
        "colab": {
          "base_uri": "https://localhost:8080/",
          "height": 34
        },
        "outputId": "dce05986-29b3-485d-98f7-e65f5657dc2d"
      },
      "cell_type": "code",
      "source": [
        "lst"
      ],
      "execution_count": 0,
      "outputs": [
        {
          "output_type": "execute_result",
          "data": {
            "text/plain": [
              "[1, 2]"
            ]
          },
          "metadata": {
            "tags": []
          },
          "execution_count": 211
        }
      ]
    },
    {
      "metadata": {
        "id": "kaRcL_epH0Ql",
        "colab_type": "code",
        "colab": {
          "base_uri": "https://localhost:8080/",
          "height": 34
        },
        "outputId": "aa78ab0b-876c-4b49-d9d3-e5cbc2fdbf81"
      },
      "cell_type": "code",
      "source": [
        "'x' in [1,2,3]"
      ],
      "execution_count": 0,
      "outputs": [
        {
          "output_type": "execute_result",
          "data": {
            "text/plain": [
              "False"
            ]
          },
          "metadata": {
            "tags": []
          },
          "execution_count": 212
        }
      ]
    },
    {
      "metadata": {
        "id": "_0VwoX94H_HP",
        "colab_type": "code",
        "colab": {
          "base_uri": "https://localhost:8080/",
          "height": 34
        },
        "outputId": "52f212f9-da1c-40f5-f74a-80d1dc3b846b"
      },
      "cell_type": "code",
      "source": [
        "'x' in ['x','y','z']"
      ],
      "execution_count": 0,
      "outputs": [
        {
          "output_type": "execute_result",
          "data": {
            "text/plain": [
              "True"
            ]
          },
          "metadata": {
            "tags": []
          },
          "execution_count": 213
        }
      ]
    },
    {
      "metadata": {
        "id": "_Limhh_aIHc0",
        "colab_type": "text"
      },
      "cell_type": "markdown",
      "source": [
        "# Great Job !"
      ]
    },
    {
      "metadata": {
        "id": "V3LBJznoODMD",
        "colab_type": "code",
        "colab": {}
      },
      "cell_type": "code",
      "source": [
        ""
      ],
      "execution_count": 0,
      "outputs": []
    }
  ]
}